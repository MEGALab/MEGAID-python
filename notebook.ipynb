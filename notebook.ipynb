{
 "cells": [
  {
   "cell_type": "markdown",
   "id": "f12930d7",
   "metadata": {},
   "source": [
    "# MEGAID\n"
   ]
  },
  {
   "cell_type": "code",
   "execution_count": 1,
   "id": "4f0310f7",
   "metadata": {},
   "outputs": [
    {
     "name": "stdout",
     "output_type": "stream",
     "text": [
      "Found existing installation: megaid 1.0.0\n",
      "Uninstalling megaid-1.0.0:\n",
      "  Successfully uninstalled megaid-1.0.0\n",
      "Processing /Users/shawnv/Work/MEGALab-IO-LLC/projects/MEGAID-python\n",
      "  Installing build dependencies ... \u001b[?25ldone\n",
      "\u001b[?25h  Getting requirements to build wheel ... \u001b[?25ldone\n",
      "\u001b[?25h  Preparing metadata (pyproject.toml) ... \u001b[?25ldone\n",
      "\u001b[?25hRequirement already satisfied: PyJWT>=2.8.0 in ./.venv/lib/python3.11/site-packages (from megaid==1.0.0) (2.10.1)\n",
      "Building wheels for collected packages: megaid\n",
      "  Building wheel for megaid (pyproject.toml) ... \u001b[?25ldone\n",
      "\u001b[?25h  Created wheel for megaid: filename=megaid-1.0.0-py3-none-any.whl size=9030 sha256=54d9d22b614a5714ada8219240b76af44ba71391451e95a2516e1e6cfe0b0d1e\n",
      "  Stored in directory: /Users/shawnv/Library/Caches/pip/wheels/7f/ad/8b/ecbdc163ce0046da391ea122d0b58bb09b7735a26695e4be4b\n",
      "Successfully built megaid\n",
      "Installing collected packages: megaid\n",
      "Successfully installed megaid-1.0.0\n",
      "\n",
      "\u001b[1m[\u001b[0m\u001b[34;49mnotice\u001b[0m\u001b[1;39;49m]\u001b[0m\u001b[39;49m A new release of pip available: \u001b[0m\u001b[31;49m22.3.1\u001b[0m\u001b[39;49m -> \u001b[0m\u001b[32;49m25.1\u001b[0m\n",
      "\u001b[1m[\u001b[0m\u001b[34;49mnotice\u001b[0m\u001b[1;39;49m]\u001b[0m\u001b[39;49m To update, run: \u001b[0m\u001b[32;49mpip install --upgrade pip\u001b[0m\n"
     ]
    }
   ],
   "source": [
    "# Install MEGAID\n",
    "!pip uninstall --no-cache-dir megaid -y\n",
    "!pip install ."
   ]
  },
  {
   "cell_type": "code",
   "execution_count": 2,
   "id": "d648d13c",
   "metadata": {},
   "outputs": [],
   "source": [
    "# Install MEGAID\n",
    "from megaid import MEGAID"
   ]
  },
  {
   "cell_type": "code",
   "execution_count": 3,
   "id": "c902a3fd",
   "metadata": {},
   "outputs": [
    {
     "name": "stdout",
     "output_type": "stream",
     "text": [
      "Your secret key is: {'ADMIN': 'efrdqBcpVqit32LUKyVYzlrCytR5a84iIbbVZf7SgJ8=', 'SHARED': 'A0ciyeqeHc4QDY9nPz-Ka_OVw7EjLlqfqXCoQ4SUWes='}\n"
     ]
    }
   ],
   "source": [
    "# Step 1: Generate secure ADMIN and SHARED keys\n",
    "keys = MEGAID.generate_encryption_keys()\n",
    "print(f\"Your secret key is: {keys}\")"
   ]
  },
  {
   "cell_type": "code",
   "execution_count": 4,
   "id": "50343251",
   "metadata": {},
   "outputs": [
    {
     "name": "stdout",
     "output_type": "stream",
     "text": [
      "MEGAID initialized with 52-bit IDs.\n",
      "MEGAID initialized with 52-bit IDs.\n"
     ]
    }
   ],
   "source": [
    "# Step 2: Initialize MEGAID \n",
    "REQUIRED_METADATA = {\n",
    "    \"name\": \"MEGAID\",\n",
    "    \"version\": \"1.0.0\",\n",
    "    \"description\": \"A library for generating and managing MEGAIDs.\",\n",
    "    \"author\": \"Your Name\",\n",
    "    \"license\": \"MIT\"\n",
    "}\n",
    "\n",
    "megaid = MEGAID(keys)\n",
    "megaid52 = MEGAID(keys, bit_size=52)\n",
    "megaid32 = MEGAID(keys, bit_size=32, default_metadata=REQUIRED_METADATA)\n",
    "\n",
    "print(\"MEGAID initialized with 52-bit IDs.\")\n",
    "print(\"MEGAID initialized with 52-bit IDs.\")\n"
   ]
  },
  {
   "cell_type": "code",
   "execution_count": 5,
   "id": "2281373b",
   "metadata": {},
   "outputs": [
    {
     "name": "stdout",
     "output_type": "stream",
     "text": [
      "New MEGAID:\n",
      "{\n",
      "    \"megaid\": 7322346518876733827,\n",
      "    \"date_created\": 1745783452719,\n",
      "    \"date_updated\": 1745783452719,\n",
      "    \"random_bits\": 3621251,\n",
      "    \"immutable_data\": {\n",
      "        \"username\": \"startrekfan\",\n",
      "        \"account_created\": \"2025-04-27\"\n",
      "    },\n",
      "    \"mutable_data\": {\n",
      "        \"last_login\": \"2025-04-27\",\n",
      "        \"status\": \"active\"\n",
      "    }\n",
      "}\n",
      "\n",
      "New MEGAID 52:\n",
      "{\n",
      "    \"megaid\": 1787682255584461,\n",
      "    \"date_created\": 1745783452719,\n",
      "    \"date_updated\": 1745783452719,\n",
      "    \"random_bits\": 205,\n",
      "    \"immutable_data\": {\n",
      "        \"username\": \"startrekfan\",\n",
      "        \"account_created\": \"2025-04-27\"\n",
      "    },\n",
      "    \"mutable_data\": {\n",
      "        \"last_login\": \"2025-04-27\",\n",
      "        \"status\": \"active\"\n",
      "    }\n",
      "}\n",
      "\n",
      "New MEGAID 32:\n",
      "{\n",
      "    \"megaid\": 6983133810877,\n",
      "    \"date_created\": 1745783452719,\n",
      "    \"date_updated\": 1745783452719,\n",
      "    \"random_bits\": 1,\n",
      "    \"immutable_data\": {\n",
      "        \"username\": \"startrekfan\",\n",
      "        \"account_created\": \"2025-04-27\"\n",
      "    },\n",
      "    \"mutable_data\": {\n",
      "        \"last_login\": \"2025-04-27\",\n",
      "        \"status\": \"active\"\n",
      "    }\n",
      "}\n"
     ]
    }
   ],
   "source": [
    "import json\n",
    "# Create a new MEGAID\n",
    "# Allow both immutable and mutable data\n",
    "new_id = megaid.create(\n",
    "    immutable_data={\"username\": \"startrekfan\", \"account_created\": \"2025-04-27\"},\n",
    "    mutable_data={\"last_login\": \"2025-04-27\", \"status\": \"active\"}\n",
    ")\n",
    "new_id52 = megaid52.create(\n",
    "    immutable_data={\"username\": \"startrekfan\", \"account_created\": \"2025-04-27\"},\n",
    "    mutable_data={\"last_login\": \"2025-04-27\", \"status\": \"active\"}\n",
    ")\n",
    "new_id32 = megaid32.create(\n",
    "    immutable_data={\"username\": \"startrekfan\", \"account_created\": \"2025-04-27\"},\n",
    "    mutable_data={\"last_login\": \"2025-04-27\", \"status\": \"active\"}\n",
    ")\n",
    "\n",
    "print(\"New MEGAID:\")\n",
    "decoded_id = megaid.read(new_id)\n",
    "print(json.dumps(decoded_id, indent=4))\n",
    "\n",
    "print(\"\\nNew MEGAID 52:\")\n",
    "decoded_id52 = megaid52.read(new_id52)\n",
    "print(json.dumps(decoded_id52, indent=4))\n",
    "\n",
    "print(\"\\nNew MEGAID 32:\")\n",
    "decoded_id32 = megaid32.read(new_id32)\n",
    "print(json.dumps(decoded_id32, indent=4))"
   ]
  },
  {
   "cell_type": "code",
   "execution_count": 6,
   "id": "b70d0b6a",
   "metadata": {},
   "outputs": [
    {
     "name": "stdout",
     "output_type": "stream",
     "text": [
      "Reading MEGAIDs:\n",
      "\n",
      "MEGAID 64-bit:\n",
      "{\n",
      "    \"megaid\": 7322346518876733827,\n",
      "    \"date_created\": 1745783452719,\n",
      "    \"date_updated\": 1745783452719,\n",
      "    \"random_bits\": 3621251,\n",
      "    \"immutable_data\": {\n",
      "        \"username\": \"startrekfan\",\n",
      "        \"account_created\": \"2025-04-27\"\n",
      "    },\n",
      "    \"mutable_data\": {\n",
      "        \"last_login\": \"2025-04-27\",\n",
      "        \"status\": \"active\"\n",
      "    }\n",
      "}\n",
      "\n",
      "MEGAID 52-bit:\n",
      "{\n",
      "    \"megaid\": 1787682255584461,\n",
      "    \"date_created\": 1745783452719,\n",
      "    \"date_updated\": 1745783452719,\n",
      "    \"random_bits\": 205,\n",
      "    \"immutable_data\": {\n",
      "        \"username\": \"startrekfan\",\n",
      "        \"account_created\": \"2025-04-27\"\n",
      "    },\n",
      "    \"mutable_data\": {\n",
      "        \"last_login\": \"2025-04-27\",\n",
      "        \"status\": \"active\"\n",
      "    }\n",
      "}\n",
      "\n",
      "MEGAID 32-bit:\n",
      "{\n",
      "    \"megaid\": 6983133810877,\n",
      "    \"date_created\": 1745783452719,\n",
      "    \"date_updated\": 1745783452719,\n",
      "    \"random_bits\": 1,\n",
      "    \"immutable_data\": {\n",
      "        \"username\": \"startrekfan\",\n",
      "        \"account_created\": \"2025-04-27\"\n",
      "    },\n",
      "    \"mutable_data\": {\n",
      "        \"last_login\": \"2025-04-27\",\n",
      "        \"status\": \"active\"\n",
      "    }\n",
      "}\n"
     ]
    }
   ],
   "source": [
    "# Read the MEGAID cell\n",
    "import json\n",
    "\n",
    "print(\"Reading MEGAIDs:\")\n",
    "print(\"\\nMEGAID 64-bit:\")\n",
    "print(json.dumps(megaid.read(new_id), indent=4))\n",
    "\n",
    "print(\"\\nMEGAID 52-bit:\")\n",
    "print(json.dumps(megaid52.read(new_id52), indent=4))\n",
    "\n",
    "print(\"\\nMEGAID 32-bit:\")\n",
    "print(json.dumps(megaid32.read(new_id32), indent=4))"
   ]
  },
  {
   "cell_type": "code",
   "execution_count": 7,
   "id": "5ff6d41f",
   "metadata": {},
   "outputs": [
    {
     "name": "stdout",
     "output_type": "stream",
     "text": [
      "Updated MEGAID 64-bit:\n",
      "{\n",
      "    \"megaid\": 7322346518876733827,\n",
      "    \"date_created\": 1745783452719,\n",
      "    \"date_updated\": 1745783452737,\n",
      "    \"random_bits\": 3621251,\n",
      "    \"immutable_data\": {\n",
      "        \"username\": \"startrekfan\",\n",
      "        \"account_created\": \"2025-04-27\"\n",
      "    },\n",
      "    \"mutable_data\": {\n",
      "        \"last_login\": \"2025-04-27\",\n",
      "        \"status\": \"premium\",\n",
      "        \"rank\": \"Captain\"\n",
      "    }\n",
      "}\n",
      "\n",
      "Updated MEGAID 52-bit:\n",
      "{\n",
      "    \"megaid\": 1787682255584461,\n",
      "    \"date_created\": 1745783452719,\n",
      "    \"date_updated\": 1745783452737,\n",
      "    \"random_bits\": 205,\n",
      "    \"immutable_data\": {\n",
      "        \"username\": \"startrekfan\",\n",
      "        \"account_created\": \"2025-04-27\"\n",
      "    },\n",
      "    \"mutable_data\": {\n",
      "        \"last_login\": \"2025-04-27\",\n",
      "        \"status\": \"premium\",\n",
      "        \"rank\": \"Commander\"\n",
      "    }\n",
      "}\n",
      "\n",
      "Updated MEGAID 32-bit:\n",
      "{\n",
      "    \"megaid\": 6983133810877,\n",
      "    \"date_created\": 1745783452719,\n",
      "    \"date_updated\": 1745783452737,\n",
      "    \"random_bits\": 1,\n",
      "    \"immutable_data\": {\n",
      "        \"username\": \"startrekfan\",\n",
      "        \"account_created\": \"2025-04-27\"\n",
      "    },\n",
      "    \"mutable_data\": {\n",
      "        \"last_login\": \"2025-04-27\",\n",
      "        \"status\": \"premium\",\n",
      "        \"rank\": \"Lieutenant\"\n",
      "    }\n",
      "}\n"
     ]
    }
   ],
   "source": [
    "# Update the MEGAID cell\n",
    "import json\n",
    "\n",
    "# Update the MEGAID (only mutable data will be changed)\n",
    "updated_id = megaid.update(new_id, {\"rank\": \"Captain\", \"status\": \"premium\"})\n",
    "updated_id52 = megaid52.update(new_id52, {\"rank\": \"Commander\", \"status\": \"premium\"})\n",
    "updated_id32 = megaid32.update(new_id32, {\"rank\": \"Lieutenant\", \"status\": \"premium\"})\n",
    "\n",
    "print(\"Updated MEGAID 64-bit:\")\n",
    "print(json.dumps(megaid.read(updated_id), indent=4))\n",
    "\n",
    "print(\"\\nUpdated MEGAID 52-bit:\")\n",
    "print(json.dumps(megaid52.read(updated_id52), indent=4))\n",
    "\n",
    "print(\"\\nUpdated MEGAID 32-bit:\")\n",
    "print(json.dumps(megaid32.read(updated_id32), indent=4))"
   ]
  }
 ],
 "metadata": {
  "kernelspec": {
   "display_name": ".venv",
   "language": "python",
   "name": "python3"
  },
  "language_info": {
   "codemirror_mode": {
    "name": "ipython",
    "version": 3
   },
   "file_extension": ".py",
   "mimetype": "text/x-python",
   "name": "python",
   "nbconvert_exporter": "python",
   "pygments_lexer": "ipython3",
   "version": "3.11.2"
  }
 },
 "nbformat": 4,
 "nbformat_minor": 5
}
